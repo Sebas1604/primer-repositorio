{
 "cells": [
  {
   "cell_type": "markdown",
   "metadata": {},
   "source": [
    "1. Importación de librerías"
   ]
  },
  {
   "cell_type": "code",
   "execution_count": null,
   "metadata": {},
   "outputs": [],
   "source": [
    "import numpy as np\n",
    "import matplotlib.pyplot as plt\n",
    "import tensorflow as tf\n",
    "from tensorflow import keras\n",
    "from tensorflow.keras import layers\n",
    "from tensorflow.keras.datasets import mnist\n",
    "from tensorflow.keras.models import load_model\n",
    "from tensorflow.keras.utils import to_categorical\n",
    "from PIL import Image"
   ]
  },
  {
   "cell_type": "markdown",
   "metadata": {},
   "source": [
    "2. Carga del dataset MNIST"
   ]
  },
  {
   "cell_type": "code",
   "execution_count": null,
   "metadata": {},
   "outputs": [],
   "source": [
    "# cargamos datos de conjunto mnist\n",
    "(datos_entrenamiento, etiquetas_entrenamiento), (datos_prueba, etiquetas_prueba) = mnist.load_data()\n",
    "\n",
    "# ejemplo de imagen\n",
    "indice = 0\n",
    "plt.imshow(datos_entrenamiento[indice], cmap='gray')\n",
    "plt.title(f\"Etiqueta: {etiquetas_entrenamiento[indice]}\")\n",
    "plt.show()"
   ]
  },
  {
   "cell_type": "markdown",
   "metadata": {},
   "source": [
    "3. Preprocesamiento de datos"
   ]
  },
  {
   "cell_type": "code",
   "execution_count": null,
   "metadata": {},
   "outputs": [],
   "source": [
    "# Normalizamos\n",
    "datos_entrenamiento = datos_entrenamiento.astype(\"float32\") / 255\n",
    "datos_prueba = datos_prueba.astype(\"float32\") / 255\n",
    "\n",
    "# ajuste de formato para la red neuronal, una dimension mas\n",
    "datos_entrenamiento = np.expand_dims(datos_entrenamiento, -1)\n",
    "datos_prueba = np.expand_dims(datos_prueba, -1)\n",
    "\n",
    "# Convertimos las etiquetas en vectores con 0 y 1\n",
    "etiquetas_entrenamiento = to_categorical(etiquetas_entrenamiento, 10)\n",
    "etiquetas_prueba = to_categorical(etiquetas_prueba, 10)"
   ]
  },
  {
   "cell_type": "markdown",
   "metadata": {},
   "source": [
    "4. Construcción del modelo"
   ]
  },
  {
   "cell_type": "code",
   "execution_count": null,
   "metadata": {},
   "outputs": [],
   "source": [
    "# arquitectura de la red neuronal\n",
    "modelo = keras.Sequential([\n",
    "    layers.Flatten(input_shape=(28, 28, 1)),\n",
    "    layers.Dense(128, activation='relu'),\n",
    "    layers.Dense(64, activation='relu'),\n",
    "    layers.Dense(10, activation='softmax')\n",
    "])\n",
    "\n",
    "\"\"\"Compilamos el modelo determinando que optimizador usar y \n",
    "cómo actualizar los pesos, que funcion de pérdida y qué\n",
    "métrica para evaluar el rendimiento\"\"\"\n",
    "\n",
    "modelo.compile(optimizer='adam',\n",
    "               loss='categorical_crossentropy',\n",
    "               metrics=['accuracy'])"
   ]
  },
  {
   "cell_type": "markdown",
   "metadata": {},
   "source": [
    "5. Entrenamiento del modelo"
   ]
  },
  {
   "cell_type": "code",
   "execution_count": null,
   "metadata": {},
   "outputs": [],
   "source": [
    "# entrenamiento del modelo\n",
    "historial = modelo.fit(datos_entrenamiento, etiquetas_entrenamiento,\n",
    "                       epochs=5,\n",
    "                       validation_data=(datos_prueba, etiquetas_prueba))"
   ]
  },
  {
   "cell_type": "markdown",
   "metadata": {},
   "source": [
    "6. Evaluación del modelo"
   ]
  },
  {
   "cell_type": "code",
   "execution_count": null,
   "metadata": {},
   "outputs": [],
   "source": [
    "# probamos el modelo, lo evaluamos\n",
    "puntaje = modelo.evaluate(datos_prueba, etiquetas_prueba)\n",
    "print(f\"Precisión del modelo: {puntaje[1]:.4f}\")"
   ]
  },
  {
   "cell_type": "markdown",
   "metadata": {},
   "source": [
    "7. Guardar el modelo entrenado"
   ]
  },
  {
   "cell_type": "code",
   "execution_count": null,
   "metadata": {},
   "outputs": [],
   "source": [
    "# guardamos el modelo \n",
    "modelo.save(\"modelo_digitos_mnist.h5\")"
   ]
  },
  {
   "cell_type": "markdown",
   "metadata": {},
   "source": [
    "8. Cargar una imagen personalizada para predecir"
   ]
  },
  {
   "cell_type": "code",
   "execution_count": null,
   "metadata": {},
   "outputs": [],
   "source": [
    "# cargamos la imagen dibujada \n",
    "imagen_ruta = \"mi_digito.jpg\"  \n",
    "imagen = Image.open(imagen_ruta).convert('L')  # la pasa a escala de grises\n",
    "imagen = imagen.resize((28, 28))\n",
    "imagen = np.array(imagen).astype(\"float32\") / 255.0 \n",
    "\n",
    "# invertimos los colores para que quede como las de mnist \n",
    "imagen = 1 - imagen\n",
    "\n",
    "# ajustamos dimensiones como con las de entrenamiento\n",
    "imagen = np.expand_dims(imagen, axis=(0, -1))  # (1, 28, 28, 1)"
   ]
  },
  {
   "cell_type": "markdown",
   "metadata": {},
   "source": [
    "9. Predicción de la imagen personalizada"
   ]
  },
  {
   "cell_type": "code",
   "execution_count": null,
   "metadata": {},
   "outputs": [],
   "source": [
    "# Cargamos el modelo entrenado\n",
    "modelo = load_model(\"modelo_digitos_mnist.h5\")\n",
    "\n",
    "# se hace la  predicción\n",
    "prediccion = modelo.predict(imagen) # vota el vector con 10 probabilidades\n",
    "digito = np.argmax(prediccion) # agarra el de mayor probabilidad\n",
    "\n",
    "#  resultado\n",
    "plt.imshow(imagen.squeeze(), cmap='gray')\n",
    "plt.title(f\"Predicción del modelo: {digito}\")\n",
    "plt.axis('off')\n",
    "plt.show()"
   ]
  },
  {
   "cell_type": "code",
   "execution_count": null,
   "metadata": {},
   "outputs": [],
   "source": []
  }
 ],
 "metadata": {
  "kernelspec": {
   "display_name": "Python 3 (ipykernel)",
   "language": "python",
   "name": "python3"
  },
  "language_info": {
   "codemirror_mode": {
    "name": "ipython",
    "version": 3
   },
   "file_extension": ".py",
   "mimetype": "text/x-python",
   "name": "python",
   "nbconvert_exporter": "python",
   "pygments_lexer": "ipython3",
   "version": "3.9.7"
  }
 },
 "nbformat": 4,
 "nbformat_minor": 2
}
